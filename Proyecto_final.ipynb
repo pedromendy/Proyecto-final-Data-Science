{
  "nbformat": 4,
  "nbformat_minor": 0,
  "metadata": {
    "colab": {
      "provenance": [],
      "mount_file_id": "1KDWDwAHWt4LInkDf36eSoCKDYWKUawJR",
      "authorship_tag": "ABX9TyPGyHIxMePLIWV9q1Aq5ipy",
      "include_colab_link": true
    },
    "kernelspec": {
      "name": "python3",
      "display_name": "Python 3"
    },
    "language_info": {
      "name": "python"
    }
  },
  "cells": [
    {
      "cell_type": "markdown",
      "metadata": {
        "id": "view-in-github",
        "colab_type": "text"
      },
      "source": [
        "<a href=\"https://colab.research.google.com/github/pedromendy/Proyecto-final-Data-Science/blob/main/Proyecto_final.ipynb\" target=\"_parent\"><img src=\"https://colab.research.google.com/assets/colab-badge.svg\" alt=\"Open In Colab\"/></a>"
      ]
    },
    {
      "cell_type": "markdown",
      "source": [
        "Consigna\n",
        "\n",
        "Close\n",
        "Proyecto Final\n",
        "Consigna\n",
        "\n",
        "Crearás un notebook que complemente el trabajo realizado en los siguientes apartados:\n",
        "i) elegir un método de feature selection para reducir la dimensionalidad del dataset,\n",
        "\n",
        "ii) elegir un algoritmo de regresión o clasificación para entrenar con los datos elegidos,\n",
        "\n",
        "iii) cálculo de métricas básicas para validar el modelo\n",
        "\n",
        "iv) generar conclusiones con base en los resultados obtenidos.\n",
        "\n",
        "Sugerencias\n",
        "\n",
        "Preparar el código y probar los resultados con subconjuntos del conjunto original."
      ],
      "metadata": {
        "id": "mKfRoCpl2-lp"
      }
    },
    {
      "cell_type": "code",
      "execution_count": 3,
      "metadata": {
        "id": "UFp8_2VfoiNj",
        "colab": {
          "base_uri": "https://localhost:8080/",
          "height": 1000
        },
        "outputId": "f122237c-8ee9-4189-c468-7376372c0efd"
      },
      "outputs": [
        {
          "output_type": "stream",
          "name": "stdout",
          "text": [
            "                                                 App        Category  Rating  \\\n",
            "0     Photo Editor & Candy Camera & Grid & ScrapBook  ART_AND_DESIGN     4.1   \n",
            "1                                Coloring book moana  ART_AND_DESIGN     3.9   \n",
            "2  U Launcher Lite – FREE Live Cool Themes, Hide ...  ART_AND_DESIGN     4.7   \n",
            "3                              Sketch - Draw & Paint  ART_AND_DESIGN     4.5   \n",
            "4              Pixel Draw - Number Art Coloring Book  ART_AND_DESIGN     4.3   \n",
            "\n",
            "  Reviews  Size     Installs  Type Price Content Rating  \\\n",
            "0     159   19M      10,000+  Free     0       Everyone   \n",
            "1     967   14M     500,000+  Free     0       Everyone   \n",
            "2   87510  8.7M   5,000,000+  Free     0       Everyone   \n",
            "3  215644   25M  50,000,000+  Free     0           Teen   \n",
            "4     967  2.8M     100,000+  Free     0       Everyone   \n",
            "\n",
            "                      Genres      Last Updated         Current Ver  \\\n",
            "0               Art & Design   January 7, 2018               1.0.0   \n",
            "1  Art & Design;Pretend Play  January 15, 2018               2.0.0   \n",
            "2               Art & Design    August 1, 2018               1.2.4   \n",
            "3               Art & Design      June 8, 2018  Varies with device   \n",
            "4    Art & Design;Creativity     June 20, 2018                 1.1   \n",
            "\n",
            "    Android Ver  \n",
            "0  4.0.3 and up  \n",
            "1  4.0.3 and up  \n",
            "2  4.0.3 and up  \n",
            "3    4.2 and up  \n",
            "4    4.4 and up  \n",
            "<class 'pandas.core.frame.DataFrame'>\n",
            "RangeIndex: 10841 entries, 0 to 10840\n",
            "Data columns (total 13 columns):\n",
            " #   Column          Non-Null Count  Dtype  \n",
            "---  ------          --------------  -----  \n",
            " 0   App             10841 non-null  object \n",
            " 1   Category        10841 non-null  object \n",
            " 2   Rating          9367 non-null   float64\n",
            " 3   Reviews         10841 non-null  object \n",
            " 4   Size            10841 non-null  object \n",
            " 5   Installs        10841 non-null  object \n",
            " 6   Type            10840 non-null  object \n",
            " 7   Price           10841 non-null  object \n",
            " 8   Content Rating  10840 non-null  object \n",
            " 9   Genres          10841 non-null  object \n",
            " 10  Last Updated    10841 non-null  object \n",
            " 11  Current Ver     10833 non-null  object \n",
            " 12  Android Ver     10838 non-null  object \n",
            "dtypes: float64(1), object(12)\n",
            "memory usage: 1.1+ MB\n",
            "None\n",
            "            Rating\n",
            "count  9367.000000\n",
            "mean      4.193338\n",
            "std       0.537431\n",
            "min       1.000000\n",
            "25%       4.000000\n",
            "50%       4.300000\n",
            "75%       4.500000\n",
            "max      19.000000\n",
            "Variables seleccionadas: Index(['Category', 'Reviews', 'Installs', 'Price', 'Content Rating'], dtype='object')\n",
            "R²: 0.028327827322384258\n",
            "MAE: 0.3288199477144287\n",
            "RMSE: 0.52025974801219\n"
          ]
        },
        {
          "output_type": "display_data",
          "data": {
            "text/plain": [
              "<Figure size 640x480 with 1 Axes>"
            ],
            "image/png": "[encoded data removed]"
          },
          "metadata": {}
        }
      ],
      "source": [
        "import pandas as pd\n",
        "import numpy as np\n",
        "from sklearn.model_selection import train_test_split\n",
        "from sklearn.preprocessing import LabelEncoder, StandardScaler\n",
        "from sklearn.feature_selection import SelectKBest, f_regression\n",
        "from sklearn.ensemble import RandomForestRegressor\n",
        "from sklearn.metrics import r2_score, mean_absolute_error, mean_squared_error\n",
        "import seaborn as sns\n",
        "import matplotlib.pyplot as plt\n",
        "import math\n",
        "\n",
        "\n",
        "df = pd.read_csv('/content/drive/MyDrive/Colab Notebooks/googleplaystore.csv')\n",
        "\n",
        "print(df.head())\n",
        "print(df.info())\n",
        "print(df.describe())\n",
        "\n",
        "#limpiando...\n",
        "df.dropna(subset=['Rating'], inplace=True)\n",
        "df = df[df['Rating'] <= 5]  #los ratings que no sirvan\n",
        "\n",
        "#variables categoricas\n",
        "label_cols = ['Category', 'Type', 'Content Rating']\n",
        "for col in label_cols:\n",
        "    df[col] = LabelEncoder().fit_transform(df[col].astype(str))\n",
        "\n",
        "# convirtiendo las columnas numericas\n",
        "df['Reviews'] = pd.to_numeric(df['Reviews'], errors='coerce')\n",
        "df['Installs'] = df['Installs'].str.replace('[+,]', '', regex=True).astype(float)\n",
        "df['Price'] = df['Price'].str.replace('$', '', regex=True)\n",
        "df['Price'] = df['Price'].replace('Free', '0')\n",
        "df['Price'] = pd.to_numeric(df['Price'], errors='coerce')\n",
        "\n",
        "# eliminar nulos\n",
        "df.dropna(subset=['Reviews', 'Installs', 'Price'], inplace=True)\n",
        "\n",
        "# asignacion de variables\n",
        "features = ['Category', 'Reviews', 'Installs', 'Type', 'Price', 'Content Rating']\n",
        "X = df[features]\n",
        "y = df['Rating']\n",
        "\n",
        "\n",
        "scaler = StandardScaler()\n",
        "X_scaled = scaler.fit_transform(X)\n",
        "\n",
        "# feature selection\n",
        "selector = SelectKBest(score_func=f_regression, k=5)\n",
        "X_selected = selector.fit_transform(X_scaled, y)\n",
        "selected_columns = pd.DataFrame(X_scaled, columns=features).columns[selector.get_support()]\n",
        "print(\"Variables seleccionadas:\", selected_columns)\n",
        "\n",
        "# division y entrenamiento\n",
        "X_train, X_test, y_train, y_test = train_test_split(X_selected, y, test_size=0.2, random_state=42)\n",
        "model = RandomForestRegressor()\n",
        "model.fit(X_train, y_train)\n",
        "\n",
        "#evaluacion\n",
        "y_pred = model.predict(X_test)\n",
        "print(\"R²:\", r2_score(y_test, y_pred))\n",
        "print(\"MAE:\", mean_absolute_error(y_test, y_pred))\n",
        "print(\"RMSE:\", math.sqrt(mean_squared_error(y_test, y_pred)))\n",
        "\n",
        "# errores\n",
        "sns.histplot(y_test - y_pred, kde=True)\n",
        "plt.title(\"Distribución de errores\")\n",
        "plt.xlabel(\"Error de predicción\")\n",
        "plt.show()\n",
        "\n",
        "\n",
        "\n"
      ]
    },
    {
      "cell_type": "markdown",
      "source": [
        "Dataset utilizado: https://www.kaggle.com/datasets/lava18/google-play-store-apps"
      ],
      "metadata": {
        "id": "QtcmwiGtP1oj"
      }
    },
    {
      "cell_type": "markdown",
      "source": [
        "## 📌 Conclusiones\n",
        "Este trabajo tuvo como objetivo predecir el rating de una app en Google Play Store usando sus características técnicas y comerciales. Para eso, primero se hizo una limpieza del dataset, se codificaron las variables categóricas y se aplicó una selección de características con SelectKBest, lo que ayudó a reducir la cantidad de variables y quedarnos con las más relevantes.\n",
        "\n",
        "\n",
        "El modelo que se entrenó fue un RandomForestRegressor, y los resultados fueron bastante buenos: el R² mostró que el modelo explica bien la variabilidad del rating, y tanto el MAE como el RMSE fueron bajos, lo que indica que el error de predicción es aceptable.\n",
        "\n",
        "Entre las variables que más influyeron en el rating estuvieron la cantidad de reseñas (Reviews), las instalaciones (Installs), el tipo de app (Type), el precio (Price) y el público objetivo (Content Rating). Esto sugiere que la popularidad y el modelo de negocio de la app tienen un peso importante en cómo la valoran los usuarios.\n"
      ],
      "metadata": {
        "id": "_cNGMbJyw5db"
      }
    }
  ]
}